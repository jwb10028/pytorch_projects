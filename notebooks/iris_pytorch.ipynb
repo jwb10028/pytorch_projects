{
 "cells": [
  {
   "cell_type": "code",
   "execution_count": 1,
   "metadata": {},
   "outputs": [],
   "source": [
    "import torch\n",
    "import torch.nn as nn\n",
    "import torch.nn.functional as F"
   ]
  },
  {
   "cell_type": "code",
   "execution_count": 2,
   "metadata": {},
   "outputs": [],
   "source": [
    "# create a model\n",
    "class Model(nn.Module):\n",
    "    #input layer (4 feats) -> hidden layer1 -> hidden layer2 -> output\n",
    "    def __init__(self, in_features=4, h1=8, h2=8, out_features=3):\n",
    "        super().__init__()\n",
    "        self.fc1 = nn.Linear(in_features, h1)\n",
    "        self.fc2 = nn.Linear(h1, h2)\n",
    "        self.out = nn.Linear(h2, out_features)\n",
    "\n",
    "    def forward(self, x):\n",
    "        x = F.relu(self.fc1(x))\n",
    "        x = F.relu(self.fc2(x))\n",
    "        x = self.out(x)\n",
    "\n",
    "        return x\n"
   ]
  },
  {
   "cell_type": "code",
   "execution_count": 3,
   "metadata": {},
   "outputs": [],
   "source": [
    "torch.manual_seed(41)\n",
    "\n",
    "model = Model()"
   ]
  },
  {
   "cell_type": "code",
   "execution_count": 4,
   "metadata": {},
   "outputs": [],
   "source": [
    "import pandas as pd\n",
    "import matplotlib.pyplot as plt\n",
    "%matplotlib inline\n"
   ]
  },
  {
   "cell_type": "code",
   "execution_count": 5,
   "metadata": {},
   "outputs": [],
   "source": [
    "url = 'https://gist.githubusercontent.com/netj/8836201/raw/6f9306ad21398ea43cba4f7d537619d0e07d5ae3/iris.csv'\n",
    "my_df = pd.read_csv(url)"
   ]
  },
  {
   "cell_type": "code",
   "execution_count": 6,
   "metadata": {},
   "outputs": [
    {
     "name": "stderr",
     "output_type": "stream",
     "text": [
      "C:\\Users\\whitb\\AppData\\Local\\Temp\\ipykernel_1048\\3724849456.py:3: FutureWarning: Downcasting behavior in `replace` is deprecated and will be removed in a future version. To retain the old behavior, explicitly call `result.infer_objects(copy=False)`. To opt-in to the future behavior, set `pd.set_option('future.no_silent_downcasting', True)`\n",
      "  my_df['variety'] = my_df['variety'].replace('Versicolor', 2.0)\n"
     ]
    }
   ],
   "source": [
    "my_df['variety'] = my_df['variety'].replace('Setosa', 0.0)\n",
    "my_df['variety'] = my_df['variety'].replace('Virginica', 1.0)\n",
    "my_df['variety'] = my_df['variety'].replace('Versicolor', 2.0)"
   ]
  },
  {
   "cell_type": "code",
   "execution_count": 7,
   "metadata": {},
   "outputs": [],
   "source": [
    "# train, test, and split\n",
    "X = my_df.drop('variety', axis=1)\n",
    "y = my_df['variety']"
   ]
  },
  {
   "cell_type": "code",
   "execution_count": 8,
   "metadata": {},
   "outputs": [],
   "source": [
    "X = X.values\n",
    "y = y.values"
   ]
  },
  {
   "cell_type": "code",
   "execution_count": 9,
   "metadata": {},
   "outputs": [],
   "source": [
    "from sklearn.model_selection import train_test_split"
   ]
  },
  {
   "cell_type": "code",
   "execution_count": 10,
   "metadata": {},
   "outputs": [],
   "source": [
    "X_train, X_test, y_train, y_test = train_test_split(X, y, test_size=0.2, random_state=41)"
   ]
  },
  {
   "cell_type": "code",
   "execution_count": 11,
   "metadata": {},
   "outputs": [],
   "source": [
    "# Convert X features to tensors\n",
    "X_train = torch.FloatTensor(X_train)\n",
    "X_test = torch.FloatTensor(X_test)"
   ]
  },
  {
   "cell_type": "code",
   "execution_count": 12,
   "metadata": {},
   "outputs": [],
   "source": [
    "# Convert y labels to tensors long\n",
    "y_train = torch.LongTensor(y_train)\n",
    "y_test = torch.LongTensor(y_test)"
   ]
  },
  {
   "cell_type": "code",
   "execution_count": 13,
   "metadata": {},
   "outputs": [
    {
     "name": "stderr",
     "output_type": "stream",
     "text": [
      "c:\\Users\\whitb\\AppData\\Local\\Programs\\Python\\Python310\\lib\\site-packages\\tqdm\\auto.py:21: TqdmWarning: IProgress not found. Please update jupyter and ipywidgets. See https://ipywidgets.readthedocs.io/en/stable/user_install.html\n",
      "  from .autonotebook import tqdm as notebook_tqdm\n"
     ]
    }
   ],
   "source": [
    "# set the criterion to measure error (how far off are predictions from data)\n",
    "criterion = nn.CrossEntropyLoss()\n",
    "# optmizer Adam, learning rate\n",
    "optimizer = torch.optim.Adam(model.parameters(), lr=0.01)"
   ]
  },
  {
   "cell_type": "code",
   "execution_count": 14,
   "metadata": {},
   "outputs": [
    {
     "name": "stdout",
     "output_type": "stream",
     "text": [
      "Epoch: 0 and lass: 1.1537690162658691\n",
      "Epoch: 10 and lass: 1.0139992237091064\n",
      "Epoch: 20 and lass: 0.7905964255332947\n",
      "Epoch: 30 and lass: 0.5636057257652283\n",
      "Epoch: 40 and lass: 0.4371228516101837\n",
      "Epoch: 50 and lass: 0.32721033692359924\n",
      "Epoch: 60 and lass: 0.2144642025232315\n",
      "Epoch: 70 and lass: 0.12771326303482056\n",
      "Epoch: 80 and lass: 0.08111429214477539\n",
      "Epoch: 90 and lass: 0.05865471437573433\n"
     ]
    }
   ],
   "source": [
    "epochs = 100\n",
    "losses = []\n",
    "for i in range(epochs):\n",
    "    y_pred = model.forward(X_train)\n",
    "\n",
    "    # measure loss/error\n",
    "    loss = criterion(y_pred, y_train)\n",
    "\n",
    "    # keep track of losses through network\n",
    "    losses.append(loss.detach().numpy())\n",
    "\n",
    "    # print every 10 epochs\n",
    "    if i % 10 == 0:\n",
    "        print(f'Epoch: {i} and lass: {loss}')\n",
    "    \n",
    "    optimizer.zero_grad()\n",
    "    loss.backward()\n",
    "    optimizer.step()\n"
   ]
  },
  {
   "cell_type": "code",
   "execution_count": 15,
   "metadata": {},
   "outputs": [
    {
     "data": {
      "text/plain": [
       "Text(0.5, 0, 'epoch')"
      ]
     },
     "execution_count": 15,
     "metadata": {},
     "output_type": "execute_result"
    },
    {
     "data": {
      "image/png": "[encoded data removed]",
      "text/plain": [
       "<Figure size 640x480 with 1 Axes>"
      ]
     },
     "metadata": {},
     "output_type": "display_data"
    }
   ],
   "source": [
    "plt.plot(range(epochs), losses)\n",
    "plt.ylabel(\"loss\")\n",
    "plt.xlabel(\"epoch\")"
   ]
  },
  {
   "cell_type": "code",
   "execution_count": 16,
   "metadata": {},
   "outputs": [],
   "source": [
    "# Evaluate Model on Test set\n",
    "with torch.no_grad():\n",
    "    y_eval = model.forward(X_test)\n",
    "    loss = criterion(y_eval, y_test)"
   ]
  },
  {
   "cell_type": "code",
   "execution_count": 17,
   "metadata": {},
   "outputs": [
    {
     "name": "stdout",
     "output_type": "stream",
     "text": [
      "1 :  tensor([-8.2977,  4.9440,  2.0362]) \t : 1 \t : 1\n",
      "2 :  tensor([-11.1228,   8.0224,   1.5355]) \t : 1 \t : 1\n",
      "3 :  tensor([-11.7547,   7.9556,   2.0325]) \t : 1 \t : 1\n",
      "4 :  tensor([-4.1191, -0.2755,  3.2689]) \t : 2 \t : 2\n",
      "5 :  tensor([-9.6330,  5.9559,  2.1361]) \t : 1 \t : 1\n",
      "6 :  tensor([-1.9124, -2.8246,  3.5505]) \t : 2 \t : 2\n",
      "7 :  tensor([-7.2982,  3.5003,  2.4596]) \t : 1 \t : 1\n",
      "8 :  tensor([-3.5723, -0.9222,  3.3828]) \t : 2 \t : 2\n",
      "9 :  tensor([-8.3589,  4.6083,  2.3154]) \t : 1 \t : 1\n",
      "10 :  tensor([-11.6635,   8.3658,   1.6369]) \t : 1 \t : 1\n",
      "11 :  tensor([-6.8752,  3.0613,  2.5159]) \t : 1 \t : 1\n",
      "12 :  tensor([ 10.0004, -16.2693,   4.4366]) \t : 0 \t : 0\n",
      "13 :  tensor([  9.0933, -14.7592,   4.0385]) \t : 0 \t : 0\n",
      "14 :  tensor([-0.6550, -3.5495,  3.1421]) \t : 2 \t : 2\n",
      "15 :  tensor([  8.4703, -14.3809,   4.1923]) \t : 0 \t : 0\n",
      "16 :  tensor([-6.9061,  2.9803,  2.6347]) \t : 1 \t : 1\n",
      "17 :  tensor([  8.9617, -14.7575,   4.1113]) \t : 0 \t : 0\n",
      "18 :  tensor([-7.9202,  4.4080,  2.1979]) \t : 2 \t : 1\n",
      "19 :  tensor([ 10.2841, -16.7476,   4.5604]) \t : 0 \t : 0\n",
      "20 :  tensor([  7.9716, -13.2780,   3.7645]) \t : 0 \t : 0\n",
      "21 :  tensor([-1.3867, -3.0235,  3.3119]) \t : 2 \t : 2\n",
      "22 :  tensor([-10.6221,   7.0593,   1.9408]) \t : 1 \t : 1\n",
      "23 :  tensor([  8.8242, -14.7574,   4.1963]) \t : 0 \t : 0\n",
      "24 :  tensor([  9.6524, -15.6925,   4.2835]) \t : 0 \t : 0\n",
      "25 :  tensor([-0.8095, -3.8159,  3.4423]) \t : 2 \t : 2\n",
      "26 :  tensor([-2.3128, -2.2182,  3.4210]) \t : 2 \t : 2\n",
      "27 :  tensor([-4.2807, -0.2422,  3.3436]) \t : 2 \t : 2\n",
      "28 :  tensor([-1.9600, -2.5965,  3.4368]) \t : 2 \t : 2\n",
      "29 :  tensor([  9.9422, -16.1739,   4.4109]) \t : 0 \t : 0\n",
      "30 :  tensor([-4.8045,  0.5627,  3.0840]) \t : 2 \t : 2\n",
      "correct: 29\n"
     ]
    }
   ],
   "source": [
    "correct = 0\n",
    "with torch.no_grad():\n",
    "    for i, data in enumerate(X_test):\n",
    "        y_val = model.forward(data)\n",
    "\n",
    "        print(f'{i+1} :  {str(y_val)} \\t : {y_test[i]} \\t : {y_val.argmax().item()}')\n",
    "\n",
    "        # correct or not\n",
    "        if y_val.argmax().item() == y_test[i]:\n",
    "            correct += 1\n",
    "\n",
    "print(f'correct: {correct}')"
   ]
  },
  {
   "cell_type": "code",
   "execution_count": 18,
   "metadata": {},
   "outputs": [],
   "source": [
    "# new data point, new iris ()\n",
    "new_iris = torch.tensor([4.7, 3.2, 1.3, 0.2])"
   ]
  },
  {
   "cell_type": "code",
   "execution_count": 19,
   "metadata": {},
   "outputs": [
    {
     "name": "stdout",
     "output_type": "stream",
     "text": [
      "tensor([  9.6524, -15.6925,   4.2835])\n"
     ]
    }
   ],
   "source": [
    "with torch.no_grad():\n",
    "    print(model(new_iris))"
   ]
  },
  {
   "cell_type": "code",
   "execution_count": 20,
   "metadata": {},
   "outputs": [],
   "source": [
    "# save and load model\n",
    "#===============================\n",
    "torch.save(model.state_dict(), '../models/iris_model.pt')"
   ]
  },
  {
   "cell_type": "code",
   "execution_count": 21,
   "metadata": {},
   "outputs": [
    {
     "data": {
      "text/plain": [
       "<All keys matched successfully>"
      ]
     },
     "execution_count": 21,
     "metadata": {},
     "output_type": "execute_result"
    }
   ],
   "source": [
    "new_model = Model()\n",
    "new_model.load_state_dict(torch.load('../models/iris_model.pt'))"
   ]
  },
  {
   "cell_type": "code",
   "execution_count": 22,
   "metadata": {},
   "outputs": [
    {
     "data": {
      "text/plain": [
       "Model(\n",
       "  (fc1): Linear(in_features=4, out_features=8, bias=True)\n",
       "  (fc2): Linear(in_features=8, out_features=8, bias=True)\n",
       "  (out): Linear(in_features=8, out_features=3, bias=True)\n",
       ")"
      ]
     },
     "execution_count": 22,
     "metadata": {},
     "output_type": "execute_result"
    }
   ],
   "source": [
    "# Make sure everything loaded correctly\n",
    "new_model.eval()"
   ]
  }
 ],
 "metadata": {
  "kernelspec": {
   "display_name": "Python 3",
   "language": "python",
   "name": "python3"
  },
  "language_info": {
   "codemirror_mode": {
    "name": "ipython",
    "version": 3
   },
   "file_extension": ".py",
   "mimetype": "text/x-python",
   "name": "python",
   "nbconvert_exporter": "python",
   "pygments_lexer": "ipython3",
   "version": "3.10.6"
  }
 },
 "nbformat": 4,
 "nbformat_minor": 2
}
